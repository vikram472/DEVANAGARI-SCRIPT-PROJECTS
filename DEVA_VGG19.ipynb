{
 "cells": [
  {
   "cell_type": "code",
   "execution_count": 2,
   "id": "ed0d64c6",
   "metadata": {},
   "outputs": [],
   "source": [
    "import os\n",
    "import cv2\n",
    "import numpy as np\n",
    "from sklearn.model_selection import train_test_split\n",
    "from sklearn.preprocessing import LabelEncoder\n",
    "from keras.utils import to_categorical\n",
    "from keras.models import Sequential\n",
    "from keras import layers\n"
   ]
  },
  {
   "cell_type": "code",
   "execution_count": 3,
   "id": "8e106af9",
   "metadata": {},
   "outputs": [],
   "source": [
    "def load_devanagari_dataset(dataset_path):\n",
    "    images = []\n",
    "    labels = []\n",
    "    label_dict = {\"consonants\": 0, \"vowels\": 1, \"digits\": 2}\n",
    "\n",
    "    for folder in os.listdir(dataset_path):\n",
    "        label = label_dict.get(folder)\n",
    "        if label is not None:\n",
    "            folder_path = os.path.join(dataset_path, folder)\n",
    "            for filename in os.listdir(folder_path):\n",
    "                img_path = os.path.join(folder_path, filename)\n",
    "                if os.path.isfile(img_path):\n",
    "                    img = cv2.imread(img_path, cv2.IMREAD_GRAYSCALE)\n",
    "                    if img is not None:\n",
    "                        img = cv2.resize(img, (64, 64))  # Adjust the size as needed\n",
    "                        img = img / 255.0  # Normalize pixel values to [0, 1]\n",
    "                        images.append(img)\n",
    "                        labels.append(label)\n",
    "\n",
    "    return np.array(images), np.array(labels)\n"
   ]
  },
  {
   "cell_type": "code",
   "execution_count": 4,
   "id": "e0b823f2",
   "metadata": {},
   "outputs": [],
   "source": [
    "import os\n",
    "import cv2\n",
    "import numpy as np\n",
    "\n",
    "def load_custom_dataset(dataset_path):\n",
    "    images = []\n",
    "    labels = []\n",
    "    label_dict = {}  # Mapping from class name to label\n",
    "\n",
    "    for label, class_name in enumerate(os.listdir(dataset_path)):\n",
    "        label_dict[class_name] = label\n",
    "        class_path = os.path.join(dataset_path, class_name)\n",
    "\n",
    "        for filename in os.listdir(class_path):\n",
    "            img_path = os.path.join(class_path, filename)\n",
    "            img = cv2.imread(img_path, cv2.IMREAD_GRAYSCALE)\n",
    "\n",
    "            if img is not None:\n",
    "                img = cv2.resize(img, (64, 64))  # Adjust the size as needed\n",
    "                img = img / 255.0  # Normalize pixel values to [0, 1]\n",
    "                images.append(img)\n",
    "                labels.append(label)\n",
    "\n",
    "    # Convert lists to numpy arrays\n",
    "    images = np.array(images)\n",
    "    labels = np.array(labels)\n",
    "\n",
    "    return images, labels, label_dict\n",
    "\n",
    "# Example usage\n",
    "dataset_path = \"Downloads/images\"\n",
    "X, y, label_dict = load_custom_dataset(dataset_path)\n"
   ]
  },
  {
   "cell_type": "code",
   "execution_count": 6,
   "id": "41be1af4",
   "metadata": {},
   "outputs": [
    {
     "name": "stdout",
     "output_type": "stream",
     "text": [
      "X_train shape: (73600, 64, 64, 1)\n",
      "y_train shape: (73600, 46)\n",
      "X_test shape: (18400, 64, 64, 1)\n",
      "y_test shape: (18400, 46)\n"
     ]
    }
   ],
   "source": [
    "# Assuming you have already loaded the dataset using the provided function\n",
    "# X, y = load_devanagari_dataset(dataset_path)\n",
    "\n",
    "# Split the dataset into training and testing sets\n",
    "X_train, X_test, y_train, y_test = train_test_split(X, y, test_size=0.2, random_state=42)\n",
    "\n",
    "# Convert labels to one-hot encoding\n",
    "num_classes = len(np.unique(y))\n",
    "y_train = to_categorical(y_train, num_classes)\n",
    "y_test = to_categorical(y_test, num_classes)\n",
    "\n",
    "# Reshape the data for compatibility with Conv2D layers\n",
    "X_train = X_train.reshape(X_train.shape[0], 64, 64, 1)\n",
    "X_test = X_test.reshape(X_test.shape[0], 64, 64, 1)\n",
    "\n",
    "\n",
    "# Print the shapes of the sets\n",
    "print(\"X_train shape:\", X_train.shape)\n",
    "print(\"y_train shape:\", y_train.shape)\n",
    "print(\"X_test shape:\", X_test.shape)\n",
    "print(\"y_test shape:\", y_test.shape)\n"
   ]
  },
  {
   "cell_type": "code",
   "execution_count": 8,
   "id": "e3a3f580",
   "metadata": {},
   "outputs": [
    {
     "name": "stdout",
     "output_type": "stream",
     "text": [
      "Downloading data from https://storage.googleapis.com/tensorflow/keras-applications/vgg19/vgg19_weights_tf_dim_ordering_tf_kernels_notop.h5\n",
      "80134624/80134624 [==============================] - 29s 0us/step\n"
     ]
    }
   ],
   "source": [
    "# Import necessary libraries\n",
    "from keras.applications import VGG19\n",
    "from keras.models import Sequential\n",
    "from keras.layers import Dense, Flatten\n",
    "# Load the pre-trained VGG16 model without the top (fully connected) layers\n",
    "base_model = VGG19(weights='imagenet', include_top=False, input_shape=(64, 64, 3))\n",
    "\n",
    "# Freeze the layers from the pre-trained model\n",
    "for layer in base_model.layers:\n",
    "    layer.trainable = False\n",
    "\n",
    "# Create a new model and add the VGG16 base followed by custom dense layers\n",
    "model = Sequential()\n",
    "model.add(base_model)\n",
    "model.add(Flatten())\n",
    "model.add(Dense(128, activation='relu'))\n",
    "model.add(Dense(46, activation='softmax'))  \n",
    "# Compile the model\n",
    "model.compile(optimizer='adam', loss='categorical_crossentropy', metrics=['accuracy'])"
   ]
  },
  {
   "cell_type": "code",
   "execution_count": 9,
   "id": "39f44452",
   "metadata": {},
   "outputs": [
    {
     "name": "stdout",
     "output_type": "stream",
     "text": [
      "Epoch 1/10\n",
      "2300/2300 [==============================] - 988s 428ms/step - loss: 0.6756 - accuracy: 0.8257 - val_loss: 0.2816 - val_accuracy: 0.9215\n",
      "Epoch 2/10\n",
      "2300/2300 [==============================] - 946s 411ms/step - loss: 0.2160 - accuracy: 0.9372 - val_loss: 0.1989 - val_accuracy: 0.9412\n",
      "Epoch 3/10\n",
      "2300/2300 [==============================] - 743s 323ms/step - loss: 0.1558 - accuracy: 0.9530 - val_loss: 0.1619 - val_accuracy: 0.9485\n",
      "Epoch 4/10\n",
      "2300/2300 [==============================] - 683s 297ms/step - loss: 0.1237 - accuracy: 0.9620 - val_loss: 0.1384 - val_accuracy: 0.9588\n",
      "Epoch 5/10\n",
      "2300/2300 [==============================] - 668s 291ms/step - loss: 0.1029 - accuracy: 0.9682 - val_loss: 0.1443 - val_accuracy: 0.9569\n",
      "Epoch 6/10\n",
      "2300/2300 [==============================] - 672s 292ms/step - loss: 0.0890 - accuracy: 0.9719 - val_loss: 0.1405 - val_accuracy: 0.9562\n",
      "Epoch 7/10\n",
      "2300/2300 [==============================] - 641s 279ms/step - loss: 0.0794 - accuracy: 0.9749 - val_loss: 0.1467 - val_accuracy: 0.9563\n",
      "Epoch 8/10\n",
      "2300/2300 [==============================] - 864s 376ms/step - loss: 0.0711 - accuracy: 0.9765 - val_loss: 0.1296 - val_accuracy: 0.9623\n",
      "Epoch 9/10\n",
      "2300/2300 [==============================] - 905s 393ms/step - loss: 0.0624 - accuracy: 0.9799 - val_loss: 0.1269 - val_accuracy: 0.9640\n",
      "Epoch 10/10\n",
      "2300/2300 [==============================] - 906s 394ms/step - loss: 0.0570 - accuracy: 0.9812 - val_loss: 0.1328 - val_accuracy: 0.9619\n"
     ]
    }
   ],
   "source": [
    "X_train_rgb = np.repeat(X_train, 3, -1)\n",
    "X_test_rgb = np.repeat(X_test, 3, -1)\n",
    "# Train the model\n",
    "history = model.fit(X_train_rgb, y_train, epochs=10, batch_size=32, validation_data=(X_test_rgb, y_test))"
   ]
  }
 ],
 "metadata": {
  "kernelspec": {
   "display_name": "Python 3 (ipykernel)",
   "language": "python",
   "name": "python3"
  },
  "language_info": {
   "codemirror_mode": {
    "name": "ipython",
    "version": 3
   },
   "file_extension": ".py",
   "mimetype": "text/x-python",
   "name": "python",
   "nbconvert_exporter": "python",
   "pygments_lexer": "ipython3",
   "version": "3.11.4"
  }
 },
 "nbformat": 4,
 "nbformat_minor": 5
}
